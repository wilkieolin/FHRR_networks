{
 "cells": [
  {
   "cell_type": "code",
   "execution_count": 1,
   "id": "22ccd25e",
   "metadata": {},
   "outputs": [],
   "source": [
    "import haiku as hk\n",
    "import jax\n",
    "import jax.random as jrnd\n",
    "import jax.numpy as jnp\n",
    "\n",
    "import numpy as np\n",
    "import optax"
   ]
  },
  {
   "cell_type": "code",
   "execution_count": 2,
   "id": "4cdeb4f3",
   "metadata": {},
   "outputs": [],
   "source": [
    "from modules import *\n",
    "from utils import *\n",
    "from training import *\n",
    "from position_encoding import TrainablePositionEncoding"
   ]
  },
  {
   "cell_type": "code",
   "execution_count": 3,
   "id": "4b5d89e5",
   "metadata": {},
   "outputs": [],
   "source": [
    "import matplotlib.pyplot as plt"
   ]
  },
  {
   "cell_type": "markdown",
   "id": "dd3701c3",
   "metadata": {},
   "source": [
    "# Dataset"
   ]
  },
  {
   "cell_type": "code",
   "execution_count": 4,
   "id": "3ae43f66",
   "metadata": {},
   "outputs": [],
   "source": [
    "#disable tensorflow from accessing the GPU - it is only processing the dataset\n",
    "disable_gpu_tf()"
   ]
  },
  {
   "cell_type": "code",
   "execution_count": 5,
   "id": "84ed63b2",
   "metadata": {},
   "outputs": [],
   "source": [
    "#choose standard dataset here - e.g. MNIST, Fashion MNIST, Kuzushiji MNIST\n",
    "dataset = \"fashion_mnist\""
   ]
  },
  {
   "cell_type": "code",
   "execution_count": 6,
   "id": "53468812",
   "metadata": {},
   "outputs": [],
   "source": [
    "#load the dataset\n",
    "n_batch = 128\n",
    "train, x_train, y_train = load_dataset(dataset, split=\"train\", is_training=True, batch_size=n_batch)"
   ]
  },
  {
   "cell_type": "code",
   "execution_count": 7,
   "id": "5e73b362",
   "metadata": {},
   "outputs": [
    {
     "data": {
      "text/plain": [
       "(60000, 28, 28, 1)"
      ]
     },
     "execution_count": 7,
     "metadata": {},
     "output_type": "execute_result"
    }
   ],
   "source": [
    "n_train = x_train.shape[0]\n",
    "x_train.shape"
   ]
  },
  {
   "cell_type": "markdown",
   "id": "b73da9b8",
   "metadata": {},
   "source": [
    "# Model"
   ]
  },
  {
   "cell_type": "code",
   "execution_count": 8,
   "id": "9d3157ed",
   "metadata": {},
   "outputs": [],
   "source": [
    "#define a cross-attentional model\n",
    "\n",
    "\"\"\"\n",
    "Cross-Attention model\n",
    "\n",
    "x - input (image, etc.) shape (b x y c)\n",
    "is_training - true when training model. \n",
    "n_priors - number of 'priors' or 'inducing points' to use for cross-attention.\n",
    "vsa_dimension - VSA/symbol dimensionality to use within the model. \n",
    "codebook_sparsity - on (0.0, 1.0), proportion of zero values to force within the class codebook\n",
    "\"\"\"\n",
    "def cross_attention(x, \n",
    "                   is_training: bool = False,\n",
    "                   var_scaling: float = 1.0, \n",
    "                   n_priors: int = 32,\n",
    "                   vsa_dimension: int = 1024,\n",
    "                   codebook_sparsity: float = 0.75):\n",
    "    \n",
    "    #convert int8 [0,255] to float [0.0, 1.0]. \n",
    "    x = scale_mnist(x)\n",
    "    #project each column/channel into VSA (b x y c) -> (b x d)\n",
    "    x = ProjectRow(vsa_dimension)(x)\n",
    "    #get the batch size\n",
    "    n_batch = x.shape[0]\n",
    "    #Broadcast the prior across the batch\n",
    "    z = TrainablePositionEncoding(n_priors, vsa_dimension)(n_batch) # (b p d)\n",
    "    #Compute cross-attention between the prior (query) and input (key-value)\n",
    "    # (b p d) x (b x d) -> (b p d)\n",
    "    x = CrossAttention(num_heads = 1, widening_factor=1, use_query_residual=True)(z, x, is_training=is_training)\n",
    "    # Flatten (p d) for final linear layer\n",
    "    x = rearrange(x, \"b p d -> b (p d)\")\n",
    "    # Merge the priors to produce a single symbol - (b p*d) -> (b d)\n",
    "    x = conv_1d(vsa_dimension)(x)\n",
    "    # Compute the similarity between the final symbol and the class codebook\n",
    "    x = CodebookDecoder(10, vsa_dimension, sparsity=codebook_sparsity)(x)\n",
    "     \n",
    "    return x"
   ]
  },
  {
   "cell_type": "code",
   "execution_count": 9,
   "id": "4003e2b7",
   "metadata": {},
   "outputs": [],
   "source": [
    "#declare the model as a transformation\n",
    "ca_model = hk.transform(cross_attention)"
   ]
  },
  {
   "cell_type": "code",
   "execution_count": 10,
   "id": "01d281cb",
   "metadata": {},
   "outputs": [],
   "source": [
    "#instantiate the first PRNG key\n",
    "key = jrnd.PRNGKey(42)"
   ]
  },
  {
   "cell_type": "code",
   "execution_count": 11,
   "id": "13e0dc4e",
   "metadata": {},
   "outputs": [],
   "source": [
    "#split the key and use it to create the model's initial parameters\n",
    "key, subkey = jrnd.split(key)\n",
    "params = ca_model.init(subkey, x_train[0:10,...])"
   ]
  },
  {
   "cell_type": "code",
   "execution_count": 12,
   "id": "7b49929a",
   "metadata": {},
   "outputs": [],
   "source": [
    "#create an instance of the RMSprop optimizer\n",
    "opt = optax.rmsprop(0.001)"
   ]
  },
  {
   "cell_type": "code",
   "execution_count": 13,
   "id": "44ef0460",
   "metadata": {},
   "outputs": [],
   "source": [
    "#get a sample batch from the train set\n",
    "b = next(train)\n",
    "x = b['image']\n",
    "y = b['label']"
   ]
  },
  {
   "cell_type": "code",
   "execution_count": 14,
   "id": "6ad1546b",
   "metadata": {},
   "outputs": [
    {
     "name": "stdout",
     "output_type": "stream",
     "text": [
      "b x y c ->  (128, 28, 28, 1)\n"
     ]
    },
    {
     "data": {
      "image/png": "[encoded data removed]",
      "text/plain": [
       "<Figure size 432x288 with 1 Axes>"
      ]
     },
     "metadata": {
      "needs_background": "light"
     },
     "output_type": "display_data"
    }
   ],
   "source": [
    "print(\"b x y c -> \", x.shape)\n",
    "plt.imshow(x[0,...], cmap=\"gray\");"
   ]
  },
  {
   "cell_type": "code",
   "execution_count": 15,
   "id": "297d4f8f",
   "metadata": {
    "scrolled": true
   },
   "outputs": [
    {
     "data": {
      "text/plain": [
       "Text(0, 0.5, 'Density')"
      ]
     },
     "execution_count": 15,
     "metadata": {},
     "output_type": "execute_result"
    },
    {
     "data": {
      "image/png": "[encoded data removed]",
      "text/plain": [
       "<Figure size 432x288 with 1 Axes>"
      ]
     },
     "metadata": {
      "needs_background": "light"
     },
     "output_type": "display_data"
    }
   ],
   "source": [
    "#sample the initial similarities the model produces between an \n",
    "# image and the class codebook. When the codebook is sparse,\n",
    "# most values are centered around zero so initial similarity\n",
    "# is fairly high.\n",
    "\n",
    "sim = ca_model.apply(params, key, x, is_training=True)\n",
    "\n",
    "plt.hist(np.array(sim.ravel()), bins=26, density=True)\n",
    "plt.xlabel(\"Similarity\")\n",
    "plt.ylabel(\"Density\")"
   ]
  },
  {
   "cell_type": "code",
   "execution_count": 16,
   "id": "2a4d5d02",
   "metadata": {},
   "outputs": [
    {
     "data": {
      "text/plain": [
       "Text(0.5, 1.0, 'Pre-Train Similarity')"
      ]
     },
     "execution_count": 16,
     "metadata": {},
     "output_type": "execute_result"
    },
    {
     "data": {
      "image/png": "[encoded data removed]",
      "text/plain": [
       "<Figure size 432x288 with 2 Axes>"
      ]
     },
     "metadata": {
      "needs_background": "light"
     },
     "output_type": "display_data"
    }
   ],
   "source": [
    "#Visualize the similarity each sample produces to the class codebook\n",
    "plt.pcolor(sim, vmax=1.0, vmin=0.0)\n",
    "plt.xlabel(\"Class\")\n",
    "plt.ylabel(\"Batch\")\n",
    "plt.colorbar()\n",
    "plt.title(\"Pre-Train Similarity\")"
   ]
  },
  {
   "cell_type": "code",
   "execution_count": 17,
   "id": "b12fb46b",
   "metadata": {},
   "outputs": [
    {
     "data": {
      "text/plain": [
       "DeviceArray(0.46171978, dtype=float32)"
      ]
     },
     "execution_count": 17,
     "metadata": {},
     "output_type": "execute_result"
    }
   ],
   "source": [
    "# Compute a sample of the loss function over these similarities. \n",
    "# Takes the complement of the similarity for the correct class label.\n",
    "# This value (distance) will be minimized over training.\n",
    "\n",
    "jnp.mean(onehot_loss(sim, y))"
   ]
  },
  {
   "cell_type": "markdown",
   "id": "23d8b22d",
   "metadata": {},
   "source": [
    "# Training"
   ]
  },
  {
   "cell_type": "code",
   "execution_count": 18,
   "id": "7cb2e9a3",
   "metadata": {},
   "outputs": [
    {
     "name": "stderr",
     "output_type": "stream",
     "text": [
      "100%|█████████████████████████████████████████████████| 2000/2000 [06:13<00:00,  5.36it/s]\n"
     ]
    }
   ],
   "source": [
    "#train the model on the dataset\n",
    "params_t, losses = train_model(ca_model, \n",
    "                               key, \n",
    "                               params = params, \n",
    "                               dataset = train, \n",
    "                               optimizer = opt, \n",
    "                               loss_fn = onehot_loss, \n",
    "                               batches = 2000)"
   ]
  },
  {
   "cell_type": "code",
   "execution_count": 19,
   "id": "f9052d24",
   "metadata": {},
   "outputs": [
    {
     "data": {
      "text/plain": [
       "Text(0, 0.5, 'Loss')"
      ]
     },
     "execution_count": 19,
     "metadata": {},
     "output_type": "execute_result"
    },
    {
     "data": {
      "image/png": "[encoded data removed]",
      "text/plain": [
       "<Figure size 432x288 with 1 Axes>"
      ]
     },
     "metadata": {
      "needs_background": "light"
     },
     "output_type": "display_data"
    }
   ],
   "source": [
    "#Plot the history of the loss values over batches\n",
    "plt.plot(losses)\n",
    "plt.xlabel(\"Batch\")\n",
    "plt.ylabel(\"Loss\")"
   ]
  },
  {
   "cell_type": "markdown",
   "id": "9cdb309d",
   "metadata": {},
   "source": [
    "# Test"
   ]
  },
  {
   "cell_type": "code",
   "execution_count": 20,
   "id": "ead735cf",
   "metadata": {},
   "outputs": [],
   "source": [
    "#Load the testing dataset\n",
    "test, x_test, y_test = load_dataset(dataset, split=\"test\", is_training=False, repeat = False, batch_size=n_batch)"
   ]
  },
  {
   "cell_type": "code",
   "execution_count": 21,
   "id": "10844983",
   "metadata": {},
   "outputs": [],
   "source": [
    "#Load a non-repeating copy of the training dataset\n",
    "train2, _, _ = load_dataset(dataset, split=\"train\", is_training=False, repeat = False, batch_size=n_batch)"
   ]
  },
  {
   "cell_type": "code",
   "execution_count": 22,
   "id": "04b559b0",
   "metadata": {},
   "outputs": [],
   "source": [
    "#define a labmda to compute accuracy we can dispatch over batches\n",
    "acc_fn = lambda b: accuracy(ca_model, key, params_t, b['image'], b['label'])"
   ]
  },
  {
   "cell_type": "code",
   "execution_count": 23,
   "id": "d87f48b2",
   "metadata": {},
   "outputs": [
    {
     "name": "stdout",
     "output_type": "stream",
     "text": [
      "Test set accuracy is  0.8551\n"
     ]
    }
   ],
   "source": [
    "#compute the test set accuracy\n",
    "preds = jnp.concatenate([acc_fn(b) for b in test])\n",
    "print(\"Test set accuracy is \", jnp.mean(preds))"
   ]
  },
  {
   "cell_type": "code",
   "execution_count": 24,
   "id": "d72aee97",
   "metadata": {},
   "outputs": [
    {
     "name": "stdout",
     "output_type": "stream",
     "text": [
      "Train set accuracy is  0.8886833\n"
     ]
    }
   ],
   "source": [
    "#compute train set accuracy\n",
    "preds_t = jnp.concatenate([acc_fn(b) for b in train2])\n",
    "print(\"Train set accuracy is \", jnp.mean(preds_t))"
   ]
  },
  {
   "cell_type": "code",
   "execution_count": 25,
   "id": "7e9825cb",
   "metadata": {},
   "outputs": [
    {
     "data": {
      "text/plain": [
       "Text(0.5, 1.0, 'Post-Train Similarity')"
      ]
     },
     "execution_count": 25,
     "metadata": {},
     "output_type": "execute_result"
    },
    {
     "data": {
      "image/png": "[encoded data removed]",
      "text/plain": [
       "<Figure size 432x288 with 2 Axes>"
      ]
     },
     "metadata": {
      "needs_background": "light"
     },
     "output_type": "display_data"
    }
   ],
   "source": [
    "#Visualize the similarity each sample produces to the class codebook \n",
    "sim2 = ca_model.apply(params_t, key, x)\n",
    "\n",
    "plt.pcolor(sim2, vmax=1.0, vmin=0.0)\n",
    "plt.xlabel(\"Class\")\n",
    "plt.ylabel(\"Batch\")\n",
    "plt.colorbar()\n",
    "plt.title(\"Post-Train Similarity\")"
   ]
  },
  {
   "cell_type": "code",
   "execution_count": null,
   "id": "3612647f",
   "metadata": {},
   "outputs": [],
   "source": []
  }
 ],
 "metadata": {
  "kernelspec": {
   "display_name": "Python 3 (ipykernel)",
   "language": "python",
   "name": "python3"
  },
  "language_info": {
   "codemirror_mode": {
    "name": "ipython",
    "version": 3
   },
   "file_extension": ".py",
   "mimetype": "text/x-python",
   "name": "python",
   "nbconvert_exporter": "python",
   "pygments_lexer": "ipython3",
   "version": "3.9.7"
  }
 },
 "nbformat": 4,
 "nbformat_minor": 5
}
