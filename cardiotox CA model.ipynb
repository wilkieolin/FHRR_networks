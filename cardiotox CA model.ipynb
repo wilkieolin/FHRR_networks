{
 "cells": [
  {
   "cell_type": "code",
   "execution_count": 1,
   "id": "851d1ec7",
   "metadata": {},
   "outputs": [],
   "source": [
    "import haiku as hk\n",
    "import jax\n",
    "import jax.random as jrnd\n",
    "import jax.numpy as jnp\n",
    "import matplotlib.pyplot as plt\n",
    "import numpy as np\n",
    "import optax\n",
    "import tensorflow_datasets as tfds\n",
    "\n",
    "from tqdm import tqdm\n",
    "from einops import rearrange\n",
    "from sklearn.metrics import auc"
   ]
  },
  {
   "cell_type": "code",
   "execution_count": 2,
   "id": "f4dda202",
   "metadata": {},
   "outputs": [],
   "source": [
    "from FHRR.modules import *\n",
    "from FHRR.utils import *\n",
    "from FHRR.training import *\n",
    "from FHRR.position_encoding import TrainablePositionEncoding"
   ]
  },
  {
   "cell_type": "markdown",
   "id": "8cc26dbf",
   "metadata": {},
   "source": [
    "# Dataset"
   ]
  },
  {
   "cell_type": "code",
   "execution_count": 3,
   "id": "8b7b47c3",
   "metadata": {},
   "outputs": [],
   "source": [
    "#disable tensorflow from accessing the GPU - it is only processing the dataset\n",
    "disable_gpu_tf()"
   ]
  },
  {
   "cell_type": "code",
   "execution_count": 4,
   "id": "ea9e33c1",
   "metadata": {},
   "outputs": [],
   "source": [
    "dpi = 100"
   ]
  },
  {
   "cell_type": "code",
   "execution_count": 5,
   "id": "7331e724",
   "metadata": {},
   "outputs": [],
   "source": [
    "#load the dataset\n",
    "dataset = \"cardiotox\"\n",
    "n_batch = 64\n",
    "ds = tfds.load(dataset, data_dir = \"~/data\", split=\"train\", batch_size=n_batch)\n",
    "ds_val = tfds.load(dataset, data_dir = \"~/data\", split=\"validation\", batch_size=n_batch)\n",
    "ds_test = tfds.load(dataset, data_dir = \"~/data\", split=\"test\", batch_size=n_batch)\n",
    "ds_test2 = tfds.load(dataset, data_dir = \"~/data\", split=\"test2\", batch_size=n_batch)"
   ]
  },
  {
   "cell_type": "code",
   "execution_count": 6,
   "id": "2cedbb0d",
   "metadata": {},
   "outputs": [],
   "source": [
    "full_ds = tfds.as_numpy(tfds.load(dataset, data_dir = \"~/data\", split=\"train\", batch_size=-1))\n",
    "full_ds_val = tfds.as_numpy(tfds.load(dataset, data_dir = \"~/data\", split=\"validation\", batch_size=-1))\n",
    "full_ds_test = tfds.as_numpy(tfds.load(dataset, data_dir = \"~/data\", split=\"test\", batch_size=-1))\n",
    "full_ds_test2 = tfds.as_numpy(tfds.load(dataset, data_dir = \"~/data\", split=\"test2\", batch_size=-1))"
   ]
  },
  {
   "cell_type": "code",
   "execution_count": 7,
   "id": "992e1b8d",
   "metadata": {},
   "outputs": [],
   "source": [
    "#calculate the maximum number of edges over each dataset to make sure each graph fits inside the common size for batching"
   ]
  },
  {
   "cell_type": "code",
   "execution_count": 8,
   "id": "6fc2d6a0",
   "metadata": {},
   "outputs": [],
   "source": [
    "max_edges = lambda x: np.max(np.sum(x['pair_mask'].reshape(x['active'].shape[0], -1), axis=(1))) / 2"
   ]
  },
  {
   "cell_type": "code",
   "execution_count": 9,
   "id": "14b27d27",
   "metadata": {},
   "outputs": [],
   "source": [
    "datasets = [full_ds, full_ds_val, full_ds_test, full_ds_test2]"
   ]
  },
  {
   "cell_type": "code",
   "execution_count": 10,
   "id": "42d88198",
   "metadata": {},
   "outputs": [],
   "source": [
    "max_edge_count = list(map(max_edges, datasets))"
   ]
  },
  {
   "cell_type": "code",
   "execution_count": 11,
   "id": "1673f883",
   "metadata": {},
   "outputs": [],
   "source": [
    "n_edge_max = int(np.max(max_edge_count) + 2)"
   ]
  },
  {
   "cell_type": "markdown",
   "id": "6ec1fd4d",
   "metadata": {},
   "source": [
    "# Graph - VSA Encoding"
   ]
  },
  {
   "cell_type": "code",
   "execution_count": 12,
   "id": "6958e9e5",
   "metadata": {},
   "outputs": [],
   "source": [
    "#set the dimension of the VSA\n",
    "dim_vsa = 1024"
   ]
  },
  {
   "cell_type": "code",
   "execution_count": 13,
   "id": "f176036a",
   "metadata": {},
   "outputs": [],
   "source": [
    "#declare the graph encoder\n",
    "g_enc = hk.transform(lambda x: GraphEncoder(dim_vsa = dim_vsa, max_edges = n_edge_max)(x))"
   ]
  },
  {
   "cell_type": "code",
   "execution_count": 14,
   "id": "a318035e",
   "metadata": {},
   "outputs": [],
   "source": [
    "#create a random key\n",
    "key = random.PRNGKey(42)"
   ]
  },
  {
   "cell_type": "code",
   "execution_count": 15,
   "id": "35be9ccf",
   "metadata": {},
   "outputs": [],
   "source": [
    "#obtain a sample from the dataset\n",
    "s = next(iter(ds))"
   ]
  },
  {
   "cell_type": "code",
   "execution_count": 16,
   "id": "19b3f340",
   "metadata": {},
   "outputs": [],
   "source": [
    "#initiate the parameters for the projection\n",
    "proj_params = g_enc.init(key, s)"
   ]
  },
  {
   "cell_type": "code",
   "execution_count": 17,
   "id": "3b895881",
   "metadata": {},
   "outputs": [],
   "source": [
    "test_s = g_enc.apply(proj_params, key, s)"
   ]
  },
  {
   "cell_type": "code",
   "execution_count": 18,
   "id": "4bb298c3",
   "metadata": {},
   "outputs": [],
   "source": [
    "make_graphs = lambda ds, sk: jnp.concatenate([g_enc.apply(proj_params, sk, s) for s in iter(tqdm(ds))])"
   ]
  },
  {
   "cell_type": "code",
   "execution_count": 19,
   "id": "21e54a74",
   "metadata": {},
   "outputs": [],
   "source": [
    "#set to true if parameters and encoded data has already been run and saved on disk\n",
    "load_from_disk = True"
   ]
  },
  {
   "cell_type": "code",
   "execution_count": 20,
   "id": "4f155486",
   "metadata": {},
   "outputs": [],
   "source": [
    "if not load_from_disk:\n",
    "    #generate the dataset as vector-symbols\n",
    "    key, sk1, sk2, sk3, sk4 = random.split(key, 5)\n",
    "\n",
    "    all_graphs_train = make_graphs(ds, sk1)\n",
    "    all_graphs_iid = make_graphs(ds_val, sk2)\n",
    "    all_graphs_test = make_graphs(ds_test, sk3)\n",
    "    all_graphs_test2 = make_graphs(ds_test2, sk4)\n",
    "    \n",
    "    print(\"Saving...\")\n",
    "    #save the converted graphs to disk to save time later if we need to re-load\n",
    "    np.savez_compressed(\"encoded_graphs.npz\", graphs=all_graphs_train)\n",
    "    np.savez_compressed(\"encoded_graphs_iid.npz\", graphs=all_graphs_iid)\n",
    "    np.savez_compressed(\"encoded_graphs_test.npz\", graphs=all_graphs_test)\n",
    "    np.savez_compressed(\"encoded_graphs_test2.npz\", graphs=all_graphs_test2)\n",
    "    print(\"Done\")\n",
    "    "
   ]
  },
  {
   "cell_type": "code",
   "execution_count": 21,
   "id": "093f208d",
   "metadata": {},
   "outputs": [
    {
     "name": "stdout",
     "output_type": "stream",
     "text": [
      "Loading dataset from disk...\n",
      "Done\n"
     ]
    }
   ],
   "source": [
    "if load_from_disk:\n",
    "    #load datasets from disk\n",
    "    print(\"Loading dataset from disk...\")\n",
    "    all_graphs_train = np.load(\"encoded_graphs.npz\")['graphs']\n",
    "    all_graphs_iid = np.load(\"encoded_graphs_iid.npz\")['graphs']\n",
    "    all_graphs_test = np.load(\"encoded_graphs_test.npz\")['graphs']\n",
    "    all_graphs_test2 = np.load(\"encoded_graphs_test2.npz\")['graphs']\n",
    "    print(\"Done\")"
   ]
  },
  {
   "cell_type": "markdown",
   "id": "d3aa8c61",
   "metadata": {},
   "source": [
    "# Classification Model"
   ]
  },
  {
   "cell_type": "code",
   "execution_count": 22,
   "id": "aa3a8c70",
   "metadata": {},
   "outputs": [],
   "source": [
    "#define a self-attentional graph model\n",
    "\n",
    "def graph_prediction_CA(x, \n",
    "                    is_training: bool = False,\n",
    "                    var_scaling: float = 1.0, \n",
    "                    codebook_sparsity: float = 0.0,\n",
    "                    n_priors: int = 32):\n",
    "    \n",
    "    #convert graph to VSA\n",
    "    x = jnp.array(x)\n",
    "    vsa_dimension = x.shape[-1]\n",
    "    n_batch = x.shape[0]\n",
    "    \n",
    "    #Compute self-attention over the inputs\n",
    "    #Broadcast the prior across the batch\n",
    "    z = TrainablePositionEncoding(n_priors, vsa_dimension)(n_batch) # (b p d)\n",
    "    # (b x d) x (b x d) -> (b x d)\n",
    "    x = CrossAttention(num_heads = 1, widening_factor=1, use_query_residual=True)(z, x, is_training=is_training)\n",
    "    \n",
    "    # Flatten (x d) for final linear layer\n",
    "    x = rearrange(x, \"b x d -> b (x d)\")\n",
    "    # Merge the priors to produce a single symbol - (b x*d) -> (b d)\n",
    "    x = conv_1d(vsa_dimension)(x)\n",
    "    # Compute the similarity between the final symbol and the class codebook\n",
    "    x = CodebookDecoder(2, vsa_dimension, sparsity=codebook_sparsity)(x)\n",
    "     \n",
    "    return x"
   ]
  },
  {
   "cell_type": "code",
   "execution_count": 23,
   "id": "297d64af",
   "metadata": {},
   "outputs": [],
   "source": [
    "def graph_dataset(graphs, \n",
    "                  truth, \n",
    "                  n_batch: int = 128,\n",
    "                  shuffle: bool = False, \n",
    "                  repeat: bool = True):\n",
    "    \"\"\"\n",
    "    Dataset formatter for VSA graphs\n",
    "    \"\"\"\n",
    "        \n",
    "    ds = tf.data.Dataset.from_tensor_slices((graphs, truth))\n",
    "    \n",
    "    if shuffle:\n",
    "        #use full buffer\n",
    "        n_buffer = truth.shape[0]\n",
    "        ds = ds.shuffle(n_buffer)\n",
    "        \n",
    "    if repeat:\n",
    "        ds = ds.repeat()\n",
    "        \n",
    "    if n_batch > 0:\n",
    "        ds = ds.batch(n_batch)\n",
    "    \n",
    "    return ds"
   ]
  },
  {
   "cell_type": "code",
   "execution_count": 24,
   "id": "82f8ad34",
   "metadata": {},
   "outputs": [],
   "source": [
    "#format the datasets into batched loaders for GPU"
   ]
  },
  {
   "cell_type": "code",
   "execution_count": 25,
   "id": "49d4b7dc",
   "metadata": {},
   "outputs": [],
   "source": [
    "train_ds = graph_dataset(all_graphs_train, \n",
    "                                    full_ds['active'],\n",
    "                                    n_batch = n_batch,\n",
    "                                    shuffle = True,\n",
    "                                    repeat = True)"
   ]
  },
  {
   "cell_type": "code",
   "execution_count": 26,
   "id": "48c55f6b",
   "metadata": {},
   "outputs": [],
   "source": [
    "test_iid = graph_dataset(all_graphs_iid, \n",
    "                            full_ds_val['active'],\n",
    "                            n_batch = n_batch,\n",
    "                            shuffle = False,\n",
    "                            repeat = False)"
   ]
  },
  {
   "cell_type": "code",
   "execution_count": 27,
   "id": "dc826283",
   "metadata": {},
   "outputs": [],
   "source": [
    "test_ds = graph_dataset(all_graphs_test, \n",
    "                            full_ds_test['active'],\n",
    "                            n_batch = n_batch,\n",
    "                            shuffle = False,\n",
    "                            repeat = False)"
   ]
  },
  {
   "cell_type": "code",
   "execution_count": 28,
   "id": "6727824f",
   "metadata": {},
   "outputs": [],
   "source": [
    "test_ds2 = graph_dataset(all_graphs_test2, \n",
    "                            full_ds_test2['active'],\n",
    "                            n_batch = n_batch,\n",
    "                            shuffle = False,\n",
    "                            repeat = False)"
   ]
  },
  {
   "cell_type": "markdown",
   "id": "e4227128",
   "metadata": {},
   "source": [
    "# Training Methods"
   ]
  },
  {
   "cell_type": "code",
   "execution_count": 29,
   "id": "f1560095",
   "metadata": {},
   "outputs": [],
   "source": [
    "#create an instance of the RMSprop optimizer\n",
    "opt = optax.rmsprop(0.001)"
   ]
  },
  {
   "cell_type": "code",
   "execution_count": 30,
   "id": "2f0fbf6a",
   "metadata": {},
   "outputs": [],
   "source": [
    "def update_params(model: hk.Transformed, \n",
    "                key,\n",
    "                trainable_params: hk.Params = None, \n",
    "                non_trainable_params: hk.Params = None, \n",
    "                loss_fn = None, \n",
    "                data = None, \n",
    "                optimizer = None, \n",
    "                opt_state = None, ):\n",
    "    \"\"\"\n",
    "    Training loop update step. \n",
    "    \"\"\"\n",
    "\n",
    "    #lambda function to compute loss \n",
    "    batch_loss = lambda tp, ntp: jnp.mean(loss_fn(\n",
    "                                        model.apply(hk.data_structures.merge(tp, ntp), key, data[0], is_training=True),\n",
    "                                        jnp.array(data[1])))\n",
    "\n",
    "    #compute the loss value and gradients\n",
    "    loss_value = batch_loss(trainable_params, non_trainable_params)\n",
    "    gradients = jax.grad(batch_loss)(trainable_params, non_trainable_params)\n",
    "    \n",
    "    #compute trainable parameter updates using the optimizer\n",
    "    updates, opt_state = optimizer.update(gradients, opt_state)\n",
    "    new_trainable_params = optax.apply_updates(trainable_params, updates)\n",
    "    \n",
    "    return new_trainable_params, opt_state, loss_value"
   ]
  },
  {
   "cell_type": "code",
   "execution_count": 31,
   "id": "aa4102ce",
   "metadata": {},
   "outputs": [],
   "source": [
    "def train_model(model, \n",
    "                key,\n",
    "                params = None,\n",
    "                optimizer = None,\n",
    "                dataset = None,\n",
    "                loss_fn = None,\n",
    "                batches: int = None,\n",
    "                loss_history = None,\n",
    "                opt_state = None,\n",
    "                non_trainable_params = [\"codebook\", \"static_projection\", \"classification_query\"]):\n",
    "    \"\"\"\n",
    "    Main training loop for reducing loss for a model on a dataset.\n",
    "    \"\"\"\n",
    "\n",
    "    #separate the trainable and non-trainable model parameters - non-trainable parameters are passed\n",
    "    # via the non_trainable_params arg above\n",
    "    trainable_params, non_trainable_params = hk.data_structures.partition(\n",
    "        #return false for each of the non-trainable parameters in the model\n",
    "        lambda m, n, v: bool(reduce(lambda a,b: a*b, [name not in m for name in non_trainable_params])),\n",
    "        params\n",
    "    )\n",
    "\n",
    "    #if there is no loss history to append to (first run)\n",
    "    if loss_history == None:\n",
    "        loss_history = []\n",
    "\n",
    "    #if there is no previous optimizer state (first run or stateless optimizer)\n",
    "    if opt_state == None:\n",
    "        opt_state = optimizer.init(trainable_params)\n",
    "\n",
    "        \n",
    "    #lambda calls parameters, batch, and optimizer state\n",
    "    update_fn = lambda train_params, nontrain_params, batch, opt_state: update_params(\n",
    "                            model, \n",
    "                            key, \n",
    "                            trainable_params = train_params, \n",
    "                            non_trainable_params = nontrain_params, \n",
    "                            loss_fn = loss_fn, \n",
    "                            data = batch, \n",
    "                            optimizer = optimizer, \n",
    "                            opt_state = opt_state, )\n",
    "\n",
    "    #main optimizer loop\n",
    "    for i in tqdm(range(batches)):\n",
    "        batch = next(dataset)\n",
    "        #call the update lambda\n",
    "        trainable_params, opt_state, loss_val = update_fn(trainable_params, \n",
    "                                                    non_trainable_params, \n",
    "                                                    batch, \n",
    "                                                    opt_state)\n",
    "\n",
    "        #append the loss value\n",
    "        loss_history.append(loss_val)\n",
    "\n",
    "    #merge the parameters back together\n",
    "    new_params = hk.data_structures.merge(trainable_params, non_trainable_params)\n",
    "\n",
    "    return new_params, loss_history"
   ]
  },
  {
   "cell_type": "markdown",
   "id": "01bd3ec5",
   "metadata": {},
   "source": [
    "# Cross-Attention Model"
   ]
  },
  {
   "cell_type": "code",
   "execution_count": 32,
   "id": "bf890478",
   "metadata": {},
   "outputs": [],
   "source": [
    "x = hk.transform(graph_prediction_CA)"
   ]
  },
  {
   "cell_type": "code",
   "execution_count": 33,
   "id": "743424dd",
   "metadata": {},
   "outputs": [],
   "source": [
    "sample = next(iter(train_ds))"
   ]
  },
  {
   "cell_type": "code",
   "execution_count": 34,
   "id": "6462ce37",
   "metadata": {},
   "outputs": [],
   "source": [
    "key, subkey = random.split(key)"
   ]
  },
  {
   "cell_type": "code",
   "execution_count": 35,
   "id": "7444dd4e",
   "metadata": {
    "scrolled": false
   },
   "outputs": [
    {
     "name": "stderr",
     "output_type": "stream",
     "text": [
      "/home/wolin/anaconda3/envs/jax/lib/python3.9/site-packages/jax/_src/numpy/lax_numpy.py:3729: UserWarning: Explicitly requested dtype float requested in ones is not available, and will be truncated to dtype float32. To enable more dtypes, set the jax_enable_x64 configuration option or the JAX_ENABLE_X64 shell environment variable. See https://github.com/google/jax#current-gotchas for more.\n",
      "  lax._check_user_dtype_supported(dtype, \"ones\")\n"
     ]
    }
   ],
   "source": [
    "params = x.init(subkey, sample[0])"
   ]
  },
  {
   "cell_type": "code",
   "execution_count": 36,
   "id": "b504fe6f",
   "metadata": {},
   "outputs": [],
   "source": [
    "sample_output = x.apply(params, key, sample[0])"
   ]
  },
  {
   "cell_type": "code",
   "execution_count": 37,
   "id": "957790cf",
   "metadata": {
    "scrolled": false
   },
   "outputs": [
    {
     "data": {
      "text/plain": [
       "Text(0, 0.5, 'Count')"
      ]
     },
     "execution_count": 37,
     "metadata": {},
     "output_type": "execute_result"
    },
    {
     "data": {
      "image/png": "[encoded data removed]",
      "text/plain": [
       "<Figure size 600x400 with 1 Axes>"
      ]
     },
     "metadata": {
      "needs_background": "light"
     },
     "output_type": "display_data"
    }
   ],
   "source": [
    "#show a sample of the similarities pre-training\n",
    "plt.figure(dpi=dpi)\n",
    "plt.hist(np.array(sample_output).ravel())\n",
    "plt.xlabel(\"Similarity to target label\")\n",
    "plt.ylabel(\"Count\")"
   ]
  },
  {
   "cell_type": "code",
   "execution_count": 38,
   "id": "40c096b8",
   "metadata": {},
   "outputs": [],
   "source": [
    "def loss_fn(similarities, activity):\n",
    "    loss = 1 - jnp.sum(similarities * jnp.array(activity), axis=1)\n",
    "    return loss"
   ]
  },
  {
   "cell_type": "code",
   "execution_count": 39,
   "id": "9c156a3b",
   "metadata": {},
   "outputs": [
    {
     "data": {
      "text/plain": [
       "Text(0, 0.5, 'Count')"
      ]
     },
     "execution_count": 39,
     "metadata": {},
     "output_type": "execute_result"
    },
    {
     "data": {
      "image/png": "[encoded data removed]",
      "text/plain": [
       "<Figure size 600x400 with 1 Axes>"
      ]
     },
     "metadata": {
      "needs_background": "light"
     },
     "output_type": "display_data"
    }
   ],
   "source": [
    "#show a sample of the loss pre-training\n",
    "plt.figure(dpi=dpi)\n",
    "plt.hist(np.array(loss_fn(sample_output, sample[1])))\n",
    "plt.xlabel(\"Distance to target label\")\n",
    "plt.ylabel(\"Count\")"
   ]
  },
  {
   "cell_type": "code",
   "execution_count": 40,
   "id": "8741474c",
   "metadata": {},
   "outputs": [
    {
     "data": {
      "text/plain": [
       "DeviceArray([1.0013376 , 0.99429524, 1.0174254 , 1.0074122 , 0.9939116 ,\n",
       "             1.0006826 , 0.99717313, 1.013474  , 1.0119982 , 1.0188733 ,\n",
       "             1.0051447 , 1.0024211 , 1.000302  , 1.0141269 , 1.018362  ,\n",
       "             0.9929566 , 0.996917  , 1.0234193 , 1.0054969 , 1.0305917 ,\n",
       "             1.0002354 , 1.0205884 , 0.9888283 , 1.0066919 , 1.0212929 ,\n",
       "             0.99551505, 1.017606  , 0.98361987, 1.024268  , 1.0005043 ,\n",
       "             1.021998  , 1.0009308 , 1.0057707 , 1.0132544 , 1.0328547 ,\n",
       "             1.0159955 , 1.0178938 , 1.0147182 , 1.0175872 , 1.0243506 ,\n",
       "             1.000461  , 1.0172564 , 1.0299746 , 1.022179  , 1.0094441 ,\n",
       "             1.013581  , 1.019448  , 0.9837224 , 0.99508244, 1.0170109 ,\n",
       "             1.0232917 , 1.0113131 , 1.0154256 , 1.0116228 , 1.029251  ,\n",
       "             1.023282  , 1.010422  , 1.0170106 , 0.9912362 , 0.99761385,\n",
       "             1.0102686 , 1.006835  , 1.0141966 , 1.0255314 ],            dtype=float32)"
      ]
     },
     "execution_count": 40,
     "metadata": {},
     "output_type": "execute_result"
    }
   ],
   "source": [
    "loss_fn(sample_output, sample[1])"
   ]
  },
  {
   "cell_type": "code",
   "execution_count": 41,
   "id": "a1e2e5d8",
   "metadata": {},
   "outputs": [
    {
     "name": "stderr",
     "output_type": "stream",
     "text": [
      "100%|█████████████████████████████████████████████████| 2000/2000 [05:45<00:00,  5.78it/s]\n"
     ]
    }
   ],
   "source": [
    "#train the model on the dataset\n",
    "params_t_CA, losses = train_model(x, \n",
    "                               key, \n",
    "                               params = params, \n",
    "                               dataset = iter(train_ds), \n",
    "                               optimizer = opt, \n",
    "                               loss_fn = loss_fn, \n",
    "                               batches = 2000,\n",
    "                              non_trainable_params=[\"codebook\", \"static_projection\", \"classification_query\"])"
   ]
  },
  {
   "cell_type": "code",
   "execution_count": 42,
   "id": "8551d060",
   "metadata": {},
   "outputs": [
    {
     "data": {
      "text/plain": [
       "Text(0.5, 0, 'Batch')"
      ]
     },
     "execution_count": 42,
     "metadata": {},
     "output_type": "execute_result"
    },
    {
     "data": {
      "image/png": "[encoded data removed]",
      "text/plain": [
       "<Figure size 600x400 with 1 Axes>"
      ]
     },
     "metadata": {
      "needs_background": "light"
     },
     "output_type": "display_data"
    }
   ],
   "source": [
    "plt.figure(dpi=dpi)\n",
    "plt.semilogy(losses)\n",
    "plt.ylabel(\"Loss\")\n",
    "plt.xlabel(\"Batch\")"
   ]
  },
  {
   "cell_type": "code",
   "execution_count": 45,
   "id": "113accb2",
   "metadata": {},
   "outputs": [],
   "source": [
    "np.savez_compressed(\"cardiotox_params_ca.npz\", params=params_t_CA)"
   ]
  },
  {
   "cell_type": "code",
   "execution_count": 46,
   "id": "673b4dcf",
   "metadata": {},
   "outputs": [],
   "source": [
    "get_predictions = lambda ds: jnp.concatenate([x.apply(params_t_CA, key, s[0]) for s in iter(ds)])"
   ]
  },
  {
   "cell_type": "code",
   "execution_count": 47,
   "id": "65c76fca",
   "metadata": {},
   "outputs": [],
   "source": [
    "all_test_iid = get_predictions(test_iid)\n",
    "all_test_ds = get_predictions(test_ds)\n",
    "all_test_ds2 = get_predictions(test_ds2)"
   ]
  },
  {
   "cell_type": "code",
   "execution_count": 48,
   "id": "746a3958",
   "metadata": {},
   "outputs": [],
   "source": [
    "b_test_iid = calc_boundary(all_test_iid)\n",
    "b_test_ds = calc_boundary(all_test_ds)\n",
    "b_test_ds2 = calc_boundary(all_test_ds2)"
   ]
  },
  {
   "cell_type": "code",
   "execution_count": 49,
   "id": "180d6c0a",
   "metadata": {},
   "outputs": [],
   "source": [
    "roc_iid = calc_roc(b_test_iid, jnp.array(full_ds_val['active']))\n",
    "roc_test = calc_roc(b_test_ds, jnp.array(full_ds_test['active']))\n",
    "roc_test2 = calc_roc(b_test_ds2, jnp.array(full_ds_test2['active']))"
   ]
  },
  {
   "cell_type": "code",
   "execution_count": 50,
   "id": "077f9ced",
   "metadata": {},
   "outputs": [
    {
     "data": {
      "text/plain": [
       "[<matplotlib.lines.Line2D at 0x7fa0e0272a00>]"
      ]
     },
     "execution_count": 50,
     "metadata": {},
     "output_type": "execute_result"
    },
    {
     "data": {
      "image/png": "[encoded data removed]",
      "text/plain": [
       "<Figure size 432x288 with 1 Axes>"
      ]
     },
     "metadata": {
      "needs_background": "light"
     },
     "output_type": "display_data"
    }
   ],
   "source": [
    "plt.plot(roc_iid[0], roc_iid[1])"
   ]
  },
  {
   "cell_type": "code",
   "execution_count": 51,
   "id": "ec2406ad",
   "metadata": {},
   "outputs": [],
   "source": [
    "auc_fn = lambda x: auc(x[0], x[1])"
   ]
  },
  {
   "cell_type": "code",
   "execution_count": 52,
   "id": "cdbfecce",
   "metadata": {},
   "outputs": [],
   "source": [
    "all_auc = list(map(auc_fn, [roc_iid, roc_test, roc_test2]))"
   ]
  },
  {
   "cell_type": "code",
   "execution_count": 53,
   "id": "75200056",
   "metadata": {},
   "outputs": [
    {
     "data": {
      "text/plain": [
       "[0.8096873826998024, 0.7520044195344796, 0.6430041405966372]"
      ]
     },
     "execution_count": 53,
     "metadata": {},
     "output_type": "execute_result"
    }
   ],
   "source": [
    "all_auc"
   ]
  },
  {
   "cell_type": "code",
   "execution_count": 54,
   "id": "ede856ff",
   "metadata": {},
   "outputs": [
    {
     "data": {
      "text/plain": [
       "Text(0.5, 1.0, 'ROC')"
      ]
     },
     "execution_count": 54,
     "metadata": {},
     "output_type": "execute_result"
    },
    {
     "data": {
      "image/png": "[encoded data removed]",
      "text/plain": [
       "<Figure size 600x400 with 1 Axes>"
      ]
     },
     "metadata": {
      "needs_background": "light"
     },
     "output_type": "display_data"
    }
   ],
   "source": [
    "plt.figure(dpi=dpi)\n",
    "plt.plot(roc_iid[0], roc_iid[1], label=\"Test-IID\")\n",
    "plt.plot(roc_test[0], roc_test[1], label=\"Test 1\")\n",
    "plt.plot(roc_test2[0], roc_test2[1], label=\"Test 2\")\n",
    "plt.legend(loc=\"lower right\")\n",
    "plt.title(\"ROC\")"
   ]
  },
  {
   "cell_type": "code",
   "execution_count": null,
   "id": "eb5c884f",
   "metadata": {},
   "outputs": [],
   "source": []
  }
 ],
 "metadata": {
  "kernelspec": {
   "display_name": "Python 3 (ipykernel)",
   "language": "python",
   "name": "python3"
  },
  "language_info": {
   "codemirror_mode": {
    "name": "ipython",
    "version": 3
   },
   "file_extension": ".py",
   "mimetype": "text/x-python",
   "name": "python",
   "nbconvert_exporter": "python",
   "pygments_lexer": "ipython3",
   "version": "3.9.7"
  }
 },
 "nbformat": 4,
 "nbformat_minor": 5
}
