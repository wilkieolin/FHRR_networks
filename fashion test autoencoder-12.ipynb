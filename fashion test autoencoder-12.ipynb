{
 "cells": [
  {
   "cell_type": "code",
   "execution_count": 1,
   "id": "3a8aa7a5",
   "metadata": {},
   "outputs": [],
   "source": [
    "import haiku as hk\n",
    "import jax\n",
    "import jax.random as jrnd\n",
    "import jax.numpy as jnp\n",
    "\n",
    "import numpy as np\n",
    "import optax"
   ]
  },
  {
   "cell_type": "code",
   "execution_count": 2,
   "id": "1fd958bb",
   "metadata": {},
   "outputs": [],
   "source": [
    "from modules import *\n",
    "from utils import *\n",
    "from training import *"
   ]
  },
  {
   "cell_type": "code",
   "execution_count": 3,
   "id": "be0e67c4",
   "metadata": {},
   "outputs": [],
   "source": [
    "import matplotlib.pyplot as plt"
   ]
  },
  {
   "cell_type": "markdown",
   "id": "848e6193",
   "metadata": {},
   "source": [
    "# Dataset"
   ]
  },
  {
   "cell_type": "code",
   "execution_count": 4,
   "id": "d5245e64",
   "metadata": {},
   "outputs": [],
   "source": [
    "#disable tensorflow from accessing the GPU - it is only processing the dataset\n",
    "disable_gpu_tf()"
   ]
  },
  {
   "cell_type": "code",
   "execution_count": 5,
   "id": "e942ed35",
   "metadata": {},
   "outputs": [],
   "source": [
    "#choose standard dataset here - e.g. MNIST, Fashion MNIST, Kuzushiji MNIST\n",
    "dataset = \"fashion_mnist\""
   ]
  },
  {
   "cell_type": "code",
   "execution_count": 6,
   "id": "c6de68e2",
   "metadata": {},
   "outputs": [],
   "source": [
    "#load the dataset\n",
    "n_batch = 128\n",
    "train, x_train, y_train = load_dataset(dataset, split=\"train\", is_training=True, batch_size=n_batch)"
   ]
  },
  {
   "cell_type": "code",
   "execution_count": 7,
   "id": "74eeb928",
   "metadata": {},
   "outputs": [
    {
     "data": {
      "text/plain": [
       "(60000, 28, 28, 1)"
      ]
     },
     "execution_count": 7,
     "metadata": {},
     "output_type": "execute_result"
    }
   ],
   "source": [
    "n_train = x_train.shape[0]\n",
    "x_train.shape"
   ]
  },
  {
   "cell_type": "markdown",
   "id": "94ca9fe9",
   "metadata": {},
   "source": [
    "# Model"
   ]
  },
  {
   "cell_type": "code",
   "execution_count": 8,
   "id": "7d4b6d60",
   "metadata": {},
   "outputs": [],
   "source": [
    "# Define an autoencoder block module\n",
    "\n",
    "class AE(hk.Module):\n",
    "    def __init__(self, widening_factor: int = 2, dim_vsa: int = 1024, name=None):\n",
    "        super().__init__(name=name)\n",
    "        self.n_hidden = dim_vsa * widening_factor\n",
    "        self.dim_vsa = dim_vsa\n",
    "        \n",
    "    def __call__(self, x):\n",
    "        #hidden layer\n",
    "        x = conv_1d(self.n_hidden)(x)\n",
    "        #output layer\n",
    "        y = conv_1d(self.dim_vsa)(x)\n",
    "        \n",
    "        return y"
   ]
  },
  {
   "cell_type": "code",
   "execution_count": 9,
   "id": "04c77be2",
   "metadata": {},
   "outputs": [],
   "source": [
    "def ae_net12(x, \n",
    "           is_training: bool = False,\n",
    "           var_scaling = 1.0, \n",
    "           vsa_dimension = 1024,\n",
    "           codebook_sparsity: float = 0.75):\n",
    "    \n",
    "    x = scale_mnist(x)\n",
    "    #project into VSA\n",
    "    x = ProjectAll(vsa_dimension)(x)\n",
    "    x = layer_norm(x)\n",
    "    \n",
    "    wf_block1 = 2\n",
    "    x = AE(wf_block1, vsa_dimension)(x)\n",
    "    x = AE(wf_block1, vsa_dimension)(x)\n",
    "    x = AE(wf_block1, vsa_dimension)(x)\n",
    "    x = AE(wf_block1, vsa_dimension)(x)\n",
    "    \n",
    "    wf_block2 = 2\n",
    "    x = AE(wf_block2, vsa_dimension)(x)\n",
    "    x = AE(wf_block2, vsa_dimension)(x)\n",
    "    x = AE(wf_block2, vsa_dimension)(x)\n",
    "    x = AE(wf_block2, vsa_dimension)(x)\n",
    "    \n",
    "    wf_block3 = 2\n",
    "    x = AE(wf_block3, vsa_dimension)(x)\n",
    "    x = AE(wf_block3, vsa_dimension)(x)\n",
    "    x = AE(wf_block3, vsa_dimension)(x)\n",
    "    x = AE(wf_block3, vsa_dimension)(x)\n",
    "   \n",
    "    x = CodebookDecoder(10, vsa_dimension, sparsity = codebook_sparsity)(x)\n",
    "     \n",
    "    return x"
   ]
  },
  {
   "cell_type": "code",
   "execution_count": 11,
   "id": "e9541242",
   "metadata": {},
   "outputs": [],
   "source": [
    "#declare the model as a transformation\n",
    "model = hk.transform(ae_net12)"
   ]
  },
  {
   "cell_type": "code",
   "execution_count": 12,
   "id": "ad92bd55",
   "metadata": {},
   "outputs": [],
   "source": [
    "#instantiate the first PRNG key\n",
    "key = jrnd.PRNGKey(42)"
   ]
  },
  {
   "cell_type": "code",
   "execution_count": 14,
   "id": "9baf8f46",
   "metadata": {},
   "outputs": [],
   "source": [
    "#split the key and use it to create the model's initial parameters\n",
    "key, subkey = jrnd.split(key)\n",
    "params = model.init(subkey, x_train[0:10,...],  codebook_sparsity=0.0)"
   ]
  },
  {
   "cell_type": "code",
   "execution_count": 15,
   "id": "d85c84ce",
   "metadata": {},
   "outputs": [],
   "source": [
    "#create an instance of the RMSprop optimizer\n",
    "opt = optax.rmsprop(0.001)"
   ]
  },
  {
   "cell_type": "code",
   "execution_count": 16,
   "id": "57087f36",
   "metadata": {},
   "outputs": [],
   "source": [
    "#get a sample batch from the train set\n",
    "b = next(train)\n",
    "x = b['image']\n",
    "y = b['label']"
   ]
  },
  {
   "cell_type": "code",
   "execution_count": 17,
   "id": "61169ed9",
   "metadata": {},
   "outputs": [
    {
     "name": "stdout",
     "output_type": "stream",
     "text": [
      "b x y c ->  (128, 28, 28, 1)\n"
     ]
    },
    {
     "data": {
      "image/png": "[encoded data removed]",
      "text/plain": [
       "<Figure size 432x288 with 1 Axes>"
      ]
     },
     "metadata": {
      "needs_background": "light"
     },
     "output_type": "display_data"
    }
   ],
   "source": [
    "print(\"b x y c -> \", x.shape)\n",
    "plt.imshow(x[0,...], cmap=\"gray\");"
   ]
  },
  {
   "cell_type": "code",
   "execution_count": 18,
   "id": "9efcea14",
   "metadata": {},
   "outputs": [
    {
     "data": {
      "text/plain": [
       "Text(0, 0.5, 'Density')"
      ]
     },
     "execution_count": 18,
     "metadata": {},
     "output_type": "execute_result"
    },
    {
     "data": {
      "image/png": "[encoded data removed]",
      "text/plain": [
       "<Figure size 432x288 with 1 Axes>"
      ]
     },
     "metadata": {
      "needs_background": "light"
     },
     "output_type": "display_data"
    }
   ],
   "source": [
    "#sample the initial similarities the model produces between an \n",
    "# image and the class codebook. \n",
    "\n",
    "sim = model.apply(params, key, x, is_training=True)\n",
    "\n",
    "plt.hist(np.array(sim.ravel()), bins=26, density=True)\n",
    "plt.xlabel(\"Similarity\")\n",
    "plt.ylabel(\"Density\")"
   ]
  },
  {
   "cell_type": "code",
   "execution_count": 19,
   "id": "032b2226",
   "metadata": {},
   "outputs": [
    {
     "data": {
      "text/plain": [
       "Text(0.5, 1.0, 'Pre-Train Similarity')"
      ]
     },
     "execution_count": 19,
     "metadata": {},
     "output_type": "execute_result"
    },
    {
     "data": {
      "image/png": "[encoded data removed]",
      "text/plain": [
       "<Figure size 432x288 with 2 Axes>"
      ]
     },
     "metadata": {
      "needs_background": "light"
     },
     "output_type": "display_data"
    }
   ],
   "source": [
    "#Visualize the similarity each sample produces to the class codebook\n",
    "plt.pcolor(jnp.abs(sim), vmax=1.0, vmin=0.0)\n",
    "plt.xlabel(\"Class\")\n",
    "plt.ylabel(\"Batch\")\n",
    "plt.colorbar()\n",
    "plt.title(\"Pre-Train Similarity\")"
   ]
  },
  {
   "cell_type": "code",
   "execution_count": 20,
   "id": "05db37ae",
   "metadata": {},
   "outputs": [
    {
     "data": {
      "text/plain": [
       "DeviceArray(0.9989797, dtype=float32)"
      ]
     },
     "execution_count": 20,
     "metadata": {},
     "output_type": "execute_result"
    }
   ],
   "source": [
    "# Compute a sample of the loss function over these similarities. \n",
    "# Takes the complement of the similarity for the correct class label.\n",
    "# This value (distance) will be minimized over training.\n",
    "\n",
    "jnp.mean(onehot_loss(sim, y))"
   ]
  },
  {
   "cell_type": "markdown",
   "id": "76e18f52",
   "metadata": {},
   "source": [
    "# Training"
   ]
  },
  {
   "cell_type": "code",
   "execution_count": 21,
   "id": "24e65cc1",
   "metadata": {},
   "outputs": [
    {
     "name": "stderr",
     "output_type": "stream",
     "text": [
      "100%|█████████████████████████████████████████████████| 2000/2000 [10:02<00:00,  3.32it/s]\n"
     ]
    }
   ],
   "source": [
    "params_t, losses = train_model(model, \n",
    "                               key, \n",
    "                               params = params, \n",
    "                               dataset = train, \n",
    "                               optimizer = opt, \n",
    "                               loss_fn = onehot_loss, \n",
    "                               batches = 2000)"
   ]
  },
  {
   "cell_type": "code",
   "execution_count": 22,
   "id": "2d10d261",
   "metadata": {},
   "outputs": [
    {
     "data": {
      "text/plain": [
       "Text(0, 0.5, 'Loss')"
      ]
     },
     "execution_count": 22,
     "metadata": {},
     "output_type": "execute_result"
    },
    {
     "data": {
      "image/png": "[encoded data removed]",
      "text/plain": [
       "<Figure size 432x288 with 1 Axes>"
      ]
     },
     "metadata": {
      "needs_background": "light"
     },
     "output_type": "display_data"
    }
   ],
   "source": [
    "#Plot the history of the loss values over batches\n",
    "plt.plot(losses)\n",
    "plt.xlabel(\"Batch\")\n",
    "plt.ylabel(\"Loss\")"
   ]
  },
  {
   "cell_type": "code",
   "execution_count": 23,
   "id": "b500f0b8",
   "metadata": {},
   "outputs": [],
   "source": [
    "#save the losses to compare to a residual deep network\n",
    "np.savez_compressed(\"ae_losses.npz\", loss=losses)"
   ]
  },
  {
   "cell_type": "markdown",
   "id": "8a9b855d",
   "metadata": {},
   "source": [
    "# Test"
   ]
  },
  {
   "cell_type": "code",
   "execution_count": 24,
   "id": "0f6a72eb",
   "metadata": {},
   "outputs": [],
   "source": [
    "#Load the testing dataset\n",
    "test, x_test, y_test = load_dataset(dataset, split=\"test\", is_training=False, repeat = False, batch_size=n_batch)"
   ]
  },
  {
   "cell_type": "code",
   "execution_count": 25,
   "id": "6673c17b",
   "metadata": {},
   "outputs": [],
   "source": [
    "#Load a non-repeating copy of the training dataset\n",
    "train2, _, _ = load_dataset(dataset, split=\"train\", is_training=False, repeat = False, batch_size=n_batch)"
   ]
  },
  {
   "cell_type": "code",
   "execution_count": 26,
   "id": "5ef1a6f0",
   "metadata": {},
   "outputs": [],
   "source": [
    "#define a labmda to compute accuracy we can dispatch over batches\n",
    "acc_fn = lambda b: accuracy(model, key, params_t, b['image'], b['label'])"
   ]
  },
  {
   "cell_type": "code",
   "execution_count": 27,
   "id": "17c5d921",
   "metadata": {},
   "outputs": [
    {
     "name": "stdout",
     "output_type": "stream",
     "text": [
      "Test set accuracy is  0.102699995\n"
     ]
    }
   ],
   "source": [
    "#compute the test set accuracy\n",
    "preds = jnp.concatenate([acc_fn(b) for b in test])\n",
    "print(\"Test set accuracy is \", jnp.mean(preds))"
   ]
  },
  {
   "cell_type": "code",
   "execution_count": 28,
   "id": "56068d80",
   "metadata": {},
   "outputs": [
    {
     "name": "stdout",
     "output_type": "stream",
     "text": [
      "Train set accuracy is  0.10316667\n"
     ]
    }
   ],
   "source": [
    "#compute train set accuracy\n",
    "preds_t = jnp.concatenate([acc_fn(b) for b in train2])\n",
    "print(\"Train set accuracy is \", jnp.mean(preds_t))"
   ]
  },
  {
   "cell_type": "code",
   "execution_count": 29,
   "id": "df3472d5",
   "metadata": {},
   "outputs": [
    {
     "data": {
      "text/plain": [
       "Text(0.5, 1.0, 'Post-Train Similarity')"
      ]
     },
     "execution_count": 29,
     "metadata": {},
     "output_type": "execute_result"
    },
    {
     "data": {
      "image/png": "[encoded data removed]",
      "text/plain": [
       "<Figure size 432x288 with 2 Axes>"
      ]
     },
     "metadata": {
      "needs_background": "light"
     },
     "output_type": "display_data"
    }
   ],
   "source": [
    "#Visualize the similarity each sample produces to the class codebook\n",
    "sim2 = model.apply(params_t, key, x)\n",
    "\n",
    "plt.pcolor(sim2, vmax=1.0, vmin=0.0)\n",
    "plt.xlabel(\"Class\")\n",
    "plt.ylabel(\"Batch\")\n",
    "plt.colorbar()\n",
    "plt.title(\"Post-Train Similarity\")"
   ]
  },
  {
   "cell_type": "code",
   "execution_count": null,
   "id": "dcc3bd09",
   "metadata": {},
   "outputs": [],
   "source": []
  }
 ],
 "metadata": {
  "kernelspec": {
   "display_name": "Python 3 (ipykernel)",
   "language": "python",
   "name": "python3"
  },
  "language_info": {
   "codemirror_mode": {
    "name": "ipython",
    "version": 3
   },
   "file_extension": ".py",
   "mimetype": "text/x-python",
   "name": "python",
   "nbconvert_exporter": "python",
   "pygments_lexer": "ipython3",
   "version": "3.9.7"
  }
 },
 "nbformat": 4,
 "nbformat_minor": 5
}
