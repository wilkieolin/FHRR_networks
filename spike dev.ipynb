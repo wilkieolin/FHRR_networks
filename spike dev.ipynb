{
 "cells": [
  {
   "cell_type": "code",
   "execution_count": 1,
   "id": "b81d4f86",
   "metadata": {},
   "outputs": [],
   "source": [
    "import haiku as hk\n",
    "import jax\n",
    "import jax.random as jrnd\n",
    "import jax.numpy as jnp\n",
    "\n",
    "import numpy as np"
   ]
  },
  {
   "cell_type": "code",
   "execution_count": 2,
   "id": "aedbc692",
   "metadata": {},
   "outputs": [],
   "source": [
    "from jax.lax import map as jmap"
   ]
  },
  {
   "cell_type": "code",
   "execution_count": 3,
   "id": "7f720186",
   "metadata": {},
   "outputs": [],
   "source": [
    "from jax.experimental import sparse"
   ]
  },
  {
   "cell_type": "code",
   "execution_count": 4,
   "id": "d1de0a4d",
   "metadata": {},
   "outputs": [],
   "source": [
    "from modules import *\n",
    "from utils import *\n",
    "from spiking import *"
   ]
  },
  {
   "cell_type": "code",
   "execution_count": 5,
   "id": "24a440fc",
   "metadata": {},
   "outputs": [],
   "source": [
    "import matplotlib.pyplot as plt"
   ]
  },
  {
   "cell_type": "code",
   "execution_count": 6,
   "id": "c4513849",
   "metadata": {},
   "outputs": [],
   "source": [
    "key = random.PRNGKey(42)"
   ]
  },
  {
   "cell_type": "code",
   "execution_count": 7,
   "id": "9b5f9285",
   "metadata": {},
   "outputs": [],
   "source": [
    "key, sk1, sk2 = random.split(key, 3)"
   ]
  },
  {
   "cell_type": "code",
   "execution_count": 8,
   "id": "74d44e36",
   "metadata": {},
   "outputs": [],
   "source": [
    "shp = (1, 100, 1024)\n",
    "phases = random.uniform(sk1, shp, minval=-1.0, maxval=1.0) * (random.uniform(sk2, shp, minval=0.0, maxval = 1.0) > 0.25)"
   ]
  },
  {
   "cell_type": "code",
   "execution_count": 9,
   "id": "27e061c3",
   "metadata": {
    "scrolled": true
   },
   "outputs": [
    {
     "data": {
      "text/plain": [
       "(1, 100, 1024)"
      ]
     },
     "execution_count": 9,
     "metadata": {},
     "output_type": "execute_result"
    }
   ],
   "source": [
    "phases.shape"
   ]
  },
  {
   "cell_type": "code",
   "execution_count": null,
   "id": "761dfc20",
   "metadata": {},
   "outputs": [],
   "source": []
  },
  {
   "cell_type": "code",
   "execution_count": 10,
   "id": "43af50f4",
   "metadata": {},
   "outputs": [
    {
     "data": {
      "text/plain": [
       "DeviceArray(0.25134766, dtype=float32)"
      ]
     },
     "execution_count": 10,
     "metadata": {},
     "output_type": "execute_result"
    }
   ],
   "source": [
    "jnp.mean(phases == 0.0)"
   ]
  },
  {
   "cell_type": "code",
   "execution_count": 11,
   "id": "57881767",
   "metadata": {},
   "outputs": [],
   "source": [
    "sl0 = phases[0,...]"
   ]
  },
  {
   "cell_type": "code",
   "execution_count": 12,
   "id": "565756df",
   "metadata": {},
   "outputs": [
    {
     "data": {
      "text/plain": [
       "(100, 1024)"
      ]
     },
     "execution_count": 12,
     "metadata": {},
     "output_type": "execute_result"
    }
   ],
   "source": [
    "sl0.shape"
   ]
  },
  {
   "cell_type": "code",
   "execution_count": 13,
   "id": "2e71fb22",
   "metadata": {},
   "outputs": [],
   "source": [
    "aa = jnp.stack(jnp.nonzero(sl0), axis=0)"
   ]
  },
  {
   "cell_type": "code",
   "execution_count": 14,
   "id": "f815523a",
   "metadata": {},
   "outputs": [
    {
     "data": {
      "text/plain": [
       "(2, 76662)"
      ]
     },
     "execution_count": 14,
     "metadata": {},
     "output_type": "execute_result"
    }
   ],
   "source": [
    "aa.shape"
   ]
  },
  {
   "cell_type": "code",
   "execution_count": 15,
   "id": "2976a186",
   "metadata": {},
   "outputs": [],
   "source": [
    "ab = list(map(lambda x: jnp.tile(x, reps=2), jnp.nonzero(sl0)))"
   ]
  },
  {
   "cell_type": "code",
   "execution_count": 16,
   "id": "cadb6b32",
   "metadata": {},
   "outputs": [],
   "source": [
    "ad = jnp.argwhere(sl0)"
   ]
  },
  {
   "cell_type": "code",
   "execution_count": 17,
   "id": "a1d4c7ae",
   "metadata": {},
   "outputs": [
    {
     "data": {
      "text/plain": [
       "(100, 1024)"
      ]
     },
     "execution_count": 17,
     "metadata": {},
     "output_type": "execute_result"
    }
   ],
   "source": [
    "sl0.shape"
   ]
  },
  {
   "cell_type": "code",
   "execution_count": 18,
   "id": "a166f7c7",
   "metadata": {},
   "outputs": [
    {
     "data": {
      "text/plain": [
       "102400"
      ]
     },
     "execution_count": 18,
     "metadata": {},
     "output_type": "execute_result"
    }
   ],
   "source": [
    "100 * 1024"
   ]
  },
  {
   "cell_type": "code",
   "execution_count": 19,
   "id": "18c88620",
   "metadata": {},
   "outputs": [
    {
     "data": {
      "text/plain": [
       "(76662, 2)"
      ]
     },
     "execution_count": 19,
     "metadata": {},
     "output_type": "execute_result"
    }
   ],
   "source": [
    "ad.shape"
   ]
  },
  {
   "cell_type": "code",
   "execution_count": 20,
   "id": "50d8eb18",
   "metadata": {},
   "outputs": [],
   "source": [
    "sl1 = sl0[jnp.nonzero(sl0)]"
   ]
  },
  {
   "cell_type": "code",
   "execution_count": 21,
   "id": "cf243fdf",
   "metadata": {},
   "outputs": [
    {
     "data": {
      "text/plain": [
       "(76662,)"
      ]
     },
     "execution_count": 21,
     "metadata": {},
     "output_type": "execute_result"
    }
   ],
   "source": [
    "sl1.shape"
   ]
  },
  {
   "cell_type": "code",
   "execution_count": 22,
   "id": "5a8cc368",
   "metadata": {},
   "outputs": [
    {
     "data": {
      "text/plain": [
       "DeviceArray([ 0.03607059, -0.7077575 ,  0.68582773, ...,  0.89667535,\n",
       "              0.10641217,  0.9088719 ], dtype=float32)"
      ]
     },
     "execution_count": 22,
     "metadata": {},
     "output_type": "execute_result"
    }
   ],
   "source": [
    "sl1"
   ]
  },
  {
   "cell_type": "code",
   "execution_count": 52,
   "id": "5f3f31aa",
   "metadata": {},
   "outputs": [
    {
     "data": {
      "text/plain": [
       "(DeviceArray([ 0,  0,  0, ..., 99, 99, 99], dtype=int32),\n",
       " DeviceArray([   2,    3,    4, ..., 1017, 1020, 1023], dtype=int32))"
      ]
     },
     "execution_count": 52,
     "metadata": {},
     "output_type": "execute_result"
    }
   ],
   "source": [
    "jnp.nonzero(sl0)"
   ]
  },
  {
   "cell_type": "code",
   "execution_count": 64,
   "id": "845d3775",
   "metadata": {},
   "outputs": [],
   "source": [
    "def phase_to_train(x, period: float = 1.0, repeats: int = 3):\n",
    "    \"\"\"\n",
    "    Given a series of input phases defined as a real tensor, convert these values to a \n",
    "    temporal spike train. \n",
    "    \"\"\" \n",
    "    t_phase0 = period/2.0\n",
    "    shape = x.shape\n",
    "    \n",
    "    x = x.ravel()\n",
    "\n",
    "    #list and repeat the index \n",
    "    inds = jnp.nonzero(x)\n",
    "\n",
    "    #list the time offset for each index and repeat it for repeats cycles\n",
    "    times = x[inds]\n",
    "    order = jnp.argsort(times)\n",
    "    \n",
    "    #sort by time\n",
    "    times = times[order]\n",
    "    inds = [jnp.take(inds[0], order)]\n",
    "    \n",
    "    n_t = times.shape[0]\n",
    "    dtype = x.dtype\n",
    "    \n",
    "    times = times * t_phase0 + t_phase0\n",
    "\n",
    "    #tile across time\n",
    "    inds = [jnp.tile(inds[0], (repeats))]\n",
    "    times = jnp.tile(times, (repeats))\n",
    "        \n",
    "    #create a list of time offsets to move spikes forward by T for repetitions\n",
    "    offsets = jnp.arange(0, repeats, dtype=dtype) * period\n",
    "    offsets = jnp.repeat(offsets, n_t)\n",
    "\n",
    "    times += offsets\n",
    "    \n",
    "    return (inds, times, shape)"
   ]
  },
  {
   "cell_type": "code",
   "execution_count": 65,
   "id": "b22b2b84",
   "metadata": {},
   "outputs": [],
   "source": [
    "ac = phase_to_train(phases)"
   ]
  },
  {
   "cell_type": "code",
   "execution_count": 66,
   "id": "5a92b297",
   "metadata": {},
   "outputs": [
    {
     "data": {
      "text/plain": [
       "[DeviceArray([80972, 85847, 98856, ...,  2050, 50795, 29788], dtype=int32)]"
      ]
     },
     "execution_count": 66,
     "metadata": {},
     "output_type": "execute_result"
    }
   ],
   "source": [
    "ac[0]"
   ]
  },
  {
   "cell_type": "code",
   "execution_count": 69,
   "id": "1f40f254",
   "metadata": {},
   "outputs": [
    {
     "data": {
      "text/plain": [
       "(229986,)"
      ]
     },
     "execution_count": 69,
     "metadata": {},
     "output_type": "execute_result"
    }
   ],
   "source": [
    "ac[0][0].shape"
   ]
  },
  {
   "cell_type": "code",
   "execution_count": 67,
   "id": "c024ce2c",
   "metadata": {},
   "outputs": [
    {
     "data": {
      "text/plain": [
       "(229986,)"
      ]
     },
     "execution_count": 67,
     "metadata": {},
     "output_type": "execute_result"
    }
   ],
   "source": [
    "ac[1].shape"
   ]
  },
  {
   "cell_type": "code",
   "execution_count": 70,
   "id": "b48a26d8",
   "metadata": {},
   "outputs": [
    {
     "data": {
      "text/plain": [
       "(1, 100, 1024)"
      ]
     },
     "execution_count": 70,
     "metadata": {},
     "output_type": "execute_result"
    }
   ],
   "source": [
    "ac[2]"
   ]
  },
  {
   "cell_type": "code",
   "execution_count": 68,
   "id": "4bd7a482",
   "metadata": {},
   "outputs": [
    {
     "data": {
      "text/plain": [
       "[<matplotlib.lines.Line2D at 0x7f912059bc40>]"
      ]
     },
     "execution_count": 68,
     "metadata": {},
     "output_type": "execute_result"
    },
    {
     "data": {
      "image/png": "[encoded data removed]",
      "text/plain": [
       "<Figure size 432x288 with 1 Axes>"
      ]
     },
     "metadata": {
      "needs_background": "light"
     },
     "output_type": "display_data"
    }
   ],
   "source": [
    "plt.plot(ac[1])"
   ]
  },
  {
   "cell_type": "code",
   "execution_count": 75,
   "id": "4bee9320",
   "metadata": {},
   "outputs": [],
   "source": [
    "from jax.lax import scatter"
   ]
  },
  {
   "cell_type": "code",
   "execution_count": 112,
   "id": "806f1da1",
   "metadata": {},
   "outputs": [],
   "source": [
    "def current(x, t, box = 0.03):\n",
    "    inds, times, full_shape = x\n",
    "    \n",
    "    currents = jnp.zeros(full_shape)\n",
    "    \n",
    "    #get the times in the current window\n",
    "    cond = lambda x: (x > t - box) * (x < t + box)\n",
    "    active = jnp.nonzero(cond(times))\n",
    "    #swap the time indices for what flattened neuron they refer to\n",
    "    active = inds[0][active]\n",
    "    active = jnp.unravel_index(active, full_shape)\n",
    "\n",
    "    currents = currents.at[active].add(1.0)\n",
    "    \n",
    "    return currents\n",
    "    \n",
    "    "
   ]
  },
  {
   "cell_type": "code",
   "execution_count": 113,
   "id": "44ef1757",
   "metadata": {},
   "outputs": [],
   "source": [
    "ag = current(ac, 0.5)"
   ]
  },
  {
   "cell_type": "code",
   "execution_count": 114,
   "id": "be755783",
   "metadata": {},
   "outputs": [
    {
     "data": {
      "text/plain": [
       "DeviceArray([[[0., 0., 1., ..., 0., 0., 0.],\n",
       "              [0., 0., 0., ..., 0., 0., 0.],\n",
       "              [0., 0., 0., ..., 0., 0., 0.],\n",
       "              ...,\n",
       "              [0., 0., 0., ..., 0., 0., 0.],\n",
       "              [0., 0., 0., ..., 0., 0., 0.],\n",
       "              [0., 0., 0., ..., 0., 0., 0.]]], dtype=float32)"
      ]
     },
     "execution_count": 114,
     "metadata": {},
     "output_type": "execute_result"
    }
   ],
   "source": [
    "ag"
   ]
  },
  {
   "cell_type": "code",
   "execution_count": 115,
   "id": "1b8b7730",
   "metadata": {},
   "outputs": [
    {
     "data": {
      "text/plain": [
       "DeviceArray(4592., dtype=float32)"
      ]
     },
     "execution_count": 115,
     "metadata": {},
     "output_type": "execute_result"
    }
   ],
   "source": [
    "jnp.sum(ag)"
   ]
  },
  {
   "cell_type": "code",
   "execution_count": 116,
   "id": "8a633607",
   "metadata": {},
   "outputs": [
    {
     "data": {
      "text/plain": [
       "<matplotlib.collections.PolyCollection at 0x7f8d87e12220>"
      ]
     },
     "execution_count": 116,
     "metadata": {},
     "output_type": "execute_result"
    },
    {
     "data": {
      "image/png": "[encoded data removed]",
      "text/plain": [
       "<Figure size 432x288 with 1 Axes>"
      ]
     },
     "metadata": {
      "needs_background": "light"
     },
     "output_type": "display_data"
    }
   ],
   "source": [
    "plt.pcolor(ag[0,...])"
   ]
  },
  {
   "cell_type": "code",
   "execution_count": null,
   "id": "6a2ee2f4",
   "metadata": {},
   "outputs": [],
   "source": []
  },
  {
   "cell_type": "code",
   "execution_count": null,
   "id": "fc027173",
   "metadata": {},
   "outputs": [],
   "source": []
  }
 ],
 "metadata": {
  "kernelspec": {
   "display_name": "Python 3 (ipykernel)",
   "language": "python",
   "name": "python3"
  },
  "language_info": {
   "codemirror_mode": {
    "name": "ipython",
    "version": 3
   },
   "file_extension": ".py",
   "mimetype": "text/x-python",
   "name": "python",
   "nbconvert_exporter": "python",
   "pygments_lexer": "ipython3",
   "version": "3.9.7"
  }
 },
 "nbformat": 4,
 "nbformat_minor": 5
}
